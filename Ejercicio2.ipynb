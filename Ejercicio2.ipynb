{
  "nbformat": 4,
  "nbformat_minor": 0,
  "metadata": {
    "colab": {
      "name": "Untitled2.ipynb",
      "provenance": [],
      "collapsed_sections": []
    },
    "kernelspec": {
      "name": "python3",
      "display_name": "Python 3"
    }
  },
  "cells": [
    {
      "cell_type": "markdown",
      "metadata": {
        "id": "wmy9nBr-4PFs"
      },
      "source": [
        "\n",
        "Ejercicio 2:\n",
        "\n",
        "Desarrolle un programa en el que el usuario introduzca una cadena de caracteres y un numero\n",
        "entero, despues el programa debe de imprimir la cadena de caracteres tantas veces como el\n",
        "nuemero entero.\n"
      ]
    },
    {
      "cell_type": "code",
      "metadata": {
        "id": "05InFhA33iEe",
        "outputId": "1d9d9af5-e7ad-440c-9776-1b8f9081cb53",
        "colab": {
          "base_uri": "https://localhost:8080/"
        }
      },
      "source": [
        "text=str(input(\"Intruduce el texto a repetir\"))\n",
        "times=int(input(\"Introduce el numero de repeticiones:\" ))\n",
        "a=0\n",
        "while a<times:\n",
        "  print(text)\n",
        "  a=a+1\n"
      ],
      "execution_count": 6,
      "outputs": [
        {
          "output_type": "stream",
          "text": [
            "Intruduce el texto a repetirHUELUM\n",
            "Introduce el numero de repeticiones:10\n",
            "HUELUM\n",
            "HUELUM\n",
            "HUELUM\n",
            "HUELUM\n",
            "HUELUM\n",
            "HUELUM\n",
            "HUELUM\n",
            "HUELUM\n",
            "HUELUM\n",
            "HUELUM\n"
          ],
          "name": "stdout"
        }
      ]
    }
  ]
}