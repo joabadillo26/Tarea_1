{
  "nbformat": 4,
  "nbformat_minor": 0,
  "metadata": {
    "colab": {
      "name": "Ejercicio_3.ipynb",
      "provenance": []
    },
    "kernelspec": {
      "name": "python3",
      "display_name": "Python 3"
    }
  },
  "cells": [
    {
      "cell_type": "markdown",
      "metadata": {
        "id": "gjprwKsFjYa6"
      },
      "source": [
        "Ejercicio 3.\n",
        "\n",
        "Escribir una función que reciba como argumentos el número de horas y el costo por hora(dejarlo como argumento predefinido en 150).La función debe de regresar el pago del empleado en un día,en una semana (5 días) y en un mes (20 días).\n"
      ]
    },
    {
      "cell_type": "code",
      "metadata": {
        "id": "91Fhu8K1jb-A",
        "outputId": "e482e289-2acc-4666-ea68-a1909ca05b0b",
        "colab": {
          "base_uri": "https://localhost:8080/"
        }
      },
      "source": [
        "def Pago_empleado(no_hrs,cost_hr):\n",
        "  pago_dia= no_hrs*cost_hr\n",
        "  pago_sem=pago_dia*5\n",
        "  pago_mes=pago_sem*20\n",
        "  print(\"Tu pago por dia sera: \",pago_dia,\" pesos\")\n",
        "  print(\"Tu pago por semana sera: \",pago_sem,\" pesos\")\n",
        "  print(\"Tu pago por mes sera: \",pago_mes,\" pesos\"\n",
        "\n",
        "cost_hr=150\n",
        "no_hrs=float(input(\"Introduce el nuemero de horas que usted desea trabajar: \"))\n",
        "\n",
        "Pago_empleado(no_hrs,cost_hr)\n",
        "print(\"Fin del programa\")\n"
      ],
      "execution_count": 2,
      "outputs": [
        {
          "output_type": "stream",
          "text": [
            "Introduce el nuemero de horas que usted desea trabajar: 8\n",
            "Tu pago por dia sera:  1200.0  pesos\n",
            "Tu pago por semana sera:  6000.0  pesos\n",
            "Tu pago por mes sera:  120000.0  pesos\n",
            "Fin del programa\n"
          ],
          "name": "stdout"
        }
      ]
    }
  ]
}